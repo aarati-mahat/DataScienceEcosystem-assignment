{
 "cells": [
  {
   "cell_type": "markdown",
   "id": "78ad2cd8-272a-4c9d-913c-d64bcf5b9dd2",
   "metadata": {},
   "source": [
    "# Data Science Tools and Ecosystem"
   ]
  },
  {
   "cell_type": "markdown",
   "id": "b8abd0b5-380d-483e-9a9e-03dcf4c09cea",
   "metadata": {},
   "source": [
    "In this notebook, Data Science Tools and Ecosystem are summarized. "
   ]
  },
  {
   "cell_type": "markdown",
   "id": "9452d019-cc77-4ba6-8c0d-e15025eaa24f",
   "metadata": {},
   "source": [
    "Some of the popular languages that Data Scientists use are:\n",
    "1. Python\n",
    "2. Java\n",
    "3. C++\n",
    "4. R"
   ]
  },
  {
   "cell_type": "markdown",
   "id": "acf296e2-da5f-4b0b-8894-1b912ae466ad",
   "metadata": {},
   "source": [
    "Some of the commonly used libraries by Data Scientists include:\n",
    "1. Pandas\n",
    "2. NumPy\n",
    "3. SciPy\n",
    "4. Matplotlib"
   ]
  },
  {
   "cell_type": "markdown",
   "id": "cddd42c8-6de4-4c26-911e-0bdc976025b7",
   "metadata": {},
   "source": [
    "|Data Science Tools|\n",
    "|------------------|\n",
    "|RStudio|\n",
    "|Jupyter|\n",
    "|Spyder|"
   ]
  },
  {
   "cell_type": "markdown",
   "id": "0cf9e9a1-64ea-4cb9-a20c-c847468b8b98",
   "metadata": {},
   "source": [
    "### Below are a few examples of evaluating arithmetic expressions in Python."
   ]
  },
  {
   "cell_type": "code",
   "execution_count": 1,
   "id": "693e74dd-e18e-464c-9565-9af14a2df3ae",
   "metadata": {
    "tags": []
   },
   "outputs": [
    {
     "data": {
      "text/plain": [
       "17"
      ]
     },
     "execution_count": 1,
     "metadata": {},
     "output_type": "execute_result"
    }
   ],
   "source": [
    "# This is a simple arithmetic expression to multiply then add integers.\n",
    "(3*4)+5"
   ]
  },
  {
   "cell_type": "code",
   "execution_count": 2,
   "id": "71ba1974-5aff-424a-a31a-64670bfcd434",
   "metadata": {
    "tags": []
   },
   "outputs": [
    {
     "data": {
      "text/plain": [
       "3.3333333333333335"
      ]
     },
     "execution_count": 2,
     "metadata": {},
     "output_type": "execute_result"
    }
   ],
   "source": [
    "# This will convert 200 minutes to hours by dividing by 60.\n",
    "\n",
    "200/60"
   ]
  },
  {
   "cell_type": "markdown",
   "id": "2a1ad94d-48c0-4a3a-a570-ce1e7b42995a",
   "metadata": {},
   "source": [
    "_Objectives:_\n",
    "* List popular languages for Data Science.\n",
    "* List commonly used Data Science libraries.\n",
    "* List some developmental environment open source tools used in Data Science.\n",
    "* Create and execute a code cell to perform simple arithmetic operations like add and multiply."
   ]
  },
  {
   "cell_type": "markdown",
   "id": "a4e33697-4be5-4b38-8a66-18b318ddf35f",
   "metadata": {},
   "source": [
    "## Author\n",
    "Aarati Mahat"
   ]
  }
 ],
 "metadata": {
  "kernelspec": {
   "display_name": "Python 3 (ipykernel)",
   "language": "python",
   "name": "python3"
  },
  "language_info": {
   "codemirror_mode": {
    "name": "ipython",
    "version": 3
   },
   "file_extension": ".py",
   "mimetype": "text/x-python",
   "name": "python",
   "nbconvert_exporter": "python",
   "pygments_lexer": "ipython3",
   "version": "3.11.5"
  }
 },
 "nbformat": 4,
 "nbformat_minor": 5
}
